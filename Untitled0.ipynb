{
  "nbformat": 4,
  "nbformat_minor": 0,
  "metadata": {
    "colab": {
      "name": "Untitled0.ipynb",
      "version": "0.3.2",
      "provenance": [],
      "include_colab_link": true
    },
    "kernelspec": {
      "name": "python3",
      "display_name": "Python 3"
    },
    "accelerator": "GPU"
  },
  "cells": [
    {
      "cell_type": "markdown",
      "metadata": {
        "id": "view-in-github",
        "colab_type": "text"
      },
      "source": [
        "<a href=\"https://colab.research.google.com/github/Hadiyev/yolo_colab/blob/master/Untitled0.ipynb\" target=\"_parent\"><img src=\"https://colab.research.google.com/assets/colab-badge.svg\" alt=\"Open In Colab\"/></a>"
      ]
    },
    {
      "cell_type": "code",
      "metadata": {
        "id": "1cXJQVtVwPEg",
        "colab_type": "code",
        "colab": {}
      },
      "source": [
        "from google.colab import drive\n",
        "drive.mount('/content/gdrive')"
      ],
      "execution_count": 0,
      "outputs": []
    },
    {
      "cell_type": "code",
      "metadata": {
        "id": "2k00yKnqwfDx",
        "colab_type": "code",
        "colab": {}
      },
      "source": [
        "import os\n",
        "!ls -la \"/content/gdrive/My Drive/darknet\"\n",
        "cwd = os.getcwd()\n",
        "print(cwd)"
      ],
      "execution_count": 0,
      "outputs": []
    },
    {
      "cell_type": "code",
      "metadata": {
        "id": "aofTxWTUw8xa",
        "colab_type": "code",
        "colab": {}
      },
      "source": [
        "# We're unzipping the cuDNN files from your Drive folder directly to the VM CUDA folders\n",
        "!tar -xzvf gdrive/My\\ Drive/darknet/cuDNN/cudnn-10.0-linux-x64-v7.5.0.56.solitairetheme8 -C /usr/local/\n",
        "!chmod a+r /usr/local/cuda/include/cudnn.h"
      ],
      "execution_count": 0,
      "outputs": []
    },
    {
      "cell_type": "code",
      "metadata": {
        "id": "sgJQSuspxYVZ",
        "colab_type": "code",
        "colab": {}
      },
      "source": [
        "# Leave this code uncommented on the very first run of your notebook or if you ever need to recompile darknet again.\n",
        "# Comment this code on the future runs.\n",
        "!git clone https://github.com/kriyeng/darknet/\n",
        "%cd darknet\n",
        "\n",
        "# Check the folder\n",
        "!ls\n",
        "\n",
        "# I have a branch where I have done the changes commented above\n",
        "!git checkout feature/google-colab\n",
        "\n",
        "#Compile Darknet\n",
        "!make"
      ],
      "execution_count": 0,
      "outputs": []
    },
    {
      "cell_type": "code",
      "metadata": {
        "id": "nWIGAGqnyGGK",
        "colab_type": "code",
        "colab": {}
      },
      "source": [
        "#Copies the Darknet compiled version to Google drive\n",
        "!cp ./darknet /content/gdrive/My\\ Drive/darknet/compiled"
      ],
      "execution_count": 0,
      "outputs": []
    },
    {
      "cell_type": "code",
      "metadata": {
        "id": "ax3I3kfT0e1i",
        "colab_type": "code",
        "colab": {}
      },
      "source": [
        "# Uncomment after the first run, when you have a copy of compiled darkent in your Google Drive\n",
        "\n",
        "# Makes a dir for darknet and move there\n",
        "#!mkdir darknet\n",
        "#%cd darknet\n",
        "\n",
        "# Copy the Darkent compiled version to the VM local drive\n",
        "#!cp /content/gdrive/My\\ Drive/darknet/bin/darknet ./darknet\n",
        "\n",
        "# Set execution permissions to Darknet\n",
        "#!chmod +x ./darknet"
      ],
      "execution_count": 0,
      "outputs": []
    },
    {
      "cell_type": "code",
      "metadata": {
        "id": "xMtZBBrD0fir",
        "colab_type": "code",
        "colab": {}
      },
      "source": [
        "#download files\n",
        "def imShow(path):\n",
        "  import cv2\n",
        "  import matplotlib.pyplot as plt\n",
        "  %matplotlib inline\n",
        "\n",
        "  image = cv2.imread(path)\n",
        "  height, width = image.shape[:2]\n",
        "  resized_image = cv2.resize(image,(3*width, 3*height), interpolation = cv2.INTER_CUBIC)\n",
        "\n",
        "  fig = plt.gcf()\n",
        "  fig.set_size_inches(18, 10)\n",
        "  plt.axis(\"off\")\n",
        "  #plt.rcParams['figure.figsize'] = [10, 5]\n",
        "  plt.imshow(cv2.cvtColor(resized_image, cv2.COLOR_BGR2RGB))\n",
        "  plt.show()\n",
        "  \n",
        "  \n",
        "def upload():\n",
        "  from google.colab import files\n",
        "  uploaded = files.upload() \n",
        "  for name, data in uploaded.items():\n",
        "    with open(name, 'wb') as f:\n",
        "      f.write(data)\n",
        "      print ('saved file', name)\n",
        "def download(path):\n",
        "  from google.colab import files\n",
        "  files.download(path)"
      ],
      "execution_count": 0,
      "outputs": []
    },
    {
      "cell_type": "code",
      "metadata": {
        "id": "YyToDkzU0pWT",
        "colab_type": "code",
        "colab": {}
      },
      "source": [
        "%cd darknet\n",
        "# Not necessary cell\n",
        "# Get yolov3 weights\n",
        "!wget https://pjreddie.com/media/files/yolov3.weights\n",
        "  \n",
        "\n",
        "# Not necessary cell\n",
        "# Execute darknet using YOLOv3 model with pre-trained weights to detect objects on 'person.jpg'\n",
        "!./darknet detect cfg/yolov3.cfg yolov3.weights data/person.jpg -dont-show\n",
        "\n",
        "# Show the result using the helper imgShow()\n",
        "imShow('predictions.jpg')\n",
        "\n"
      ],
      "execution_count": 0,
      "outputs": []
    },
    {
      "cell_type": "code",
      "metadata": {
        "id": "PrYF-3aeCD5V",
        "colab_type": "code",
        "colab": {}
      },
      "source": [
        "!./darknet detector train \"/content/gdrive/My Drive/darknet/obj.data\" \"/content/gdrive/My Drive/darknet/yolov3-tiny.cfg\" \"/content/gdrive/My Drive/darknet/backup/yolov3-tiny_last.weights\" -dont_show"
      ],
      "execution_count": 0,
      "outputs": []
    },
    {
      "cell_type": "code",
      "metadata": {
        "id": "oefLAweMR3Di",
        "colab_type": "code",
        "colab": {}
      },
      "source": [
        "!./darknet detector map \"/content/gdrive/My Drive/darknet/obj.data\" \"/content/gdrive/My Drive/darknet/yolov3-tiny.cfg\" \"/content/gdrive/My Drive/darknet/backup/yolov3-tiny_last.weights\""
      ],
      "execution_count": 0,
      "outputs": []
    },
    {
      "cell_type": "code",
      "metadata": {
        "id": "dCArpCEwUbO1",
        "colab_type": "code",
        "colab": {}
      },
      "source": [
        "!./darknet detect \"/content/gdrive/My Drive/darknet/yolov3-tiny.cfg\" \"/content/gdrive/My Drive/darknet/backup/yolov3-tiny_last.weights\" \"/content/gdrive/My Drive/darknet/img/020-001.jpg\" -dont-show\n",
        "\n",
        "# Show the result using the helper imgShow()\n",
        "imShow('predictions.jpg')"
      ],
      "execution_count": 0,
      "outputs": []
    }
  ]
}